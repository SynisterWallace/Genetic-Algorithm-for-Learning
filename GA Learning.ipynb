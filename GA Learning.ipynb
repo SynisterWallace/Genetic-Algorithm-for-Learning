{
 "cells": [
  {
   "cell_type": "code",
   "execution_count": null,
   "metadata": {},
   "outputs": [],
   "source": []
  },
  {
   "cell_type": "code",
   "execution_count": 1,
   "metadata": {},
   "outputs": [],
   "source": [
    "import random\n",
    "import numpy as np\n",
    "import pandas as pd"
   ]
  },
  {
   "cell_type": "code",
   "execution_count": 2,
   "metadata": {},
   "outputs": [],
   "source": [
    "# dataset = pd.read_csv(\"Dataset_AI.csv\")\n",
    "import csv\n",
    "with open('datasetAI.csv', 'r') as f:\n",
    "  reader = csv.reader(f)\n",
    "  data = list(reader)\n",
    "with open('datatestAI.csv', 'r') as f:\n",
    "  reader = csv.reader(f)\n",
    "  test = list(reader)\n"
   ]
  },
  {
   "cell_type": "code",
   "execution_count": 3,
   "metadata": {
    "scrolled": true
   },
   "outputs": [
    {
     "name": "stdout",
     "output_type": "stream",
     "text": [
      "[['Tinggi', 'Siang', 'Berawan', 'Rendah'], ['Rendah', 'Siang', 'Hujan', 'Tinggi'], ['Normal', 'Pagi', 'Hujan', 'Tinggi'], ['Tinggi', 'Siang', 'Hujan', 'Normal'], ['Rendah', 'Malam', 'Hujan', 'Rendah'], ['Normal', 'Sore', 'Cerah', 'Normal'], ['Tinggi', 'Siang', 'Rintik', 'Rendah'], ['Rendah', 'Siang', 'Cerah', 'Rendah'], ['Normal', 'Siang', 'Cerah', 'Rendah'], ['Tinggi', 'Siang', 'Hujan', 'Rendah'], ['Tinggi', 'Sore', 'Cerah', 'Tinggi'], ['Normal', 'Siang', 'Cerah', 'Tinggi'], ['Rendah', 'Pagi', 'Berawan', 'Normal'], ['Rendah', 'Malam', 'Rintik', 'Tinggi'], ['Normal', 'Siang', 'Hujan', 'Normal'], ['Tinggi', 'Malam', 'Cerah', 'Tinggi'], ['Rendah', 'Malam', 'Berawan', 'Rendah'], ['Rendah', 'Sore', 'Rintik', 'Normal'], ['Tinggi', 'Siang', 'Cerah', 'Rendah'], ['Rendah', 'Malam', 'Rintik', 'Normal']]\n"
     ]
    }
   ],
   "source": [
    "print(test)"
   ]
  },
  {
   "cell_type": "code",
   "execution_count": 4,
   "metadata": {},
   "outputs": [
    {
     "name": "stdout",
     "output_type": "stream",
     "text": [
      "[[0, 1, 0, 0, 1, 0, 0, 0, 1, 0, 0, 0, 1, 0, 0], [0, 1, 0, 0, 1, 0, 0, 1, 0, 0, 0, 0, 1, 0, 0], [0, 1, 0, 1, 0, 0, 0, 0, 0, 0, 1, 0, 1, 0, 0], [0, 1, 0, 0, 0, 1, 0, 0, 0, 1, 0, 0, 0, 1, 1], [0, 1, 0, 0, 0, 0, 1, 0, 1, 0, 0, 1, 0, 0, 0], [0, 1, 0, 0, 0, 0, 1, 1, 0, 0, 0, 0, 1, 0, 1], [0, 1, 0, 1, 0, 0, 0, 1, 0, 0, 0, 0, 0, 1, 1], [0, 1, 0, 0, 1, 0, 0, 0, 1, 0, 0, 0, 0, 1, 0], [0, 1, 0, 0, 0, 1, 0, 0, 0, 0, 1, 0, 1, 0, 0], [0, 1, 0, 0, 1, 0, 0, 0, 0, 1, 0, 0, 0, 1, 1], [0, 1, 0, 0, 0, 1, 0, 0, 1, 0, 0, 1, 0, 0, 0], [0, 1, 0, 0, 0, 1, 0, 1, 0, 0, 0, 0, 0, 1, 0], [0, 1, 0, 1, 0, 0, 0, 0, 1, 0, 0, 0, 1, 0, 1], [0, 1, 0, 0, 0, 0, 1, 0, 0, 0, 1, 0, 0, 1, 1], [0, 1, 0, 1, 0, 0, 0, 1, 0, 0, 0, 0, 1, 0, 0], [0, 1, 0, 1, 0, 0, 0, 0, 0, 1, 0, 0, 1, 0, 0], [0, 1, 0, 0, 0, 0, 1, 0, 1, 0, 0, 0, 0, 1, 0], [0, 1, 0, 0, 1, 0, 0, 0, 0, 0, 1, 1, 0, 0, 0], [0, 1, 0, 1, 0, 0, 0, 0, 0, 1, 0, 1, 0, 0, 1], [0, 1, 0, 0, 1, 0, 0, 0, 0, 0, 1, 0, 0, 1, 0], [0, 1, 0, 0, 0, 0, 1, 0, 0, 1, 0, 0, 0, 1, 1], [0, 1, 0, 1, 0, 0, 0, 0, 0, 1, 0, 0, 0, 1, 0], [0, 1, 0, 0, 0, 1, 0, 0, 0, 0, 1, 1, 0, 0, 0], [0, 1, 0, 0, 0, 0, 1, 0, 0, 0, 1, 1, 0, 0, 0], [0, 0, 1, 0, 0, 1, 0, 0, 1, 0, 0, 1, 0, 0, 0], [0, 0, 1, 1, 0, 0, 0, 0, 1, 0, 0, 0, 0, 1, 1], [0, 0, 1, 0, 1, 0, 0, 0, 1, 0, 0, 0, 0, 1, 1], [0, 0, 1, 1, 0, 0, 0, 0, 0, 1, 0, 0, 1, 0, 1], [0, 0, 1, 0, 0, 0, 1, 0, 0, 0, 1, 1, 0, 0, 0], [0, 0, 1, 0, 1, 0, 0, 0, 0, 1, 0, 0, 1, 0, 1], [0, 0, 1, 0, 0, 1, 0, 0, 0, 0, 1, 0, 0, 1, 0], [0, 0, 1, 1, 0, 0, 0, 1, 0, 0, 0, 0, 0, 1, 1], [0, 0, 1, 0, 0, 1, 0, 1, 0, 0, 0, 0, 0, 1, 0], [0, 0, 1, 0, 0, 0, 1, 0, 0, 1, 0, 0, 0, 1, 0], [0, 0, 1, 0, 0, 0, 1, 0, 1, 0, 0, 1, 0, 0, 1], [0, 0, 1, 0, 0, 1, 0, 0, 0, 1, 0, 0, 0, 1, 0], [0, 0, 1, 0, 0, 1, 0, 0, 1, 0, 0, 0, 1, 0, 1], [0, 0, 1, 0, 1, 0, 0, 0, 0, 0, 1, 0, 1, 0, 1], [0, 0, 1, 1, 0, 0, 0, 0, 0, 1, 0, 1, 0, 0, 1], [0, 0, 1, 0, 0, 1, 0, 0, 0, 0, 1, 1, 0, 0, 0], [0, 0, 1, 1, 0, 0, 0, 0, 0, 0, 1, 0, 1, 0, 1], [0, 0, 1, 0, 1, 0, 0, 1, 0, 0, 0, 0, 1, 0, 1], [0, 0, 1, 1, 0, 0, 0, 0, 0, 0, 1, 1, 0, 0, 1], [0, 0, 1, 0, 0, 0, 1, 1, 0, 0, 0, 0, 1, 0, 1], [0, 0, 1, 1, 0, 0, 0, 0, 0, 0, 1, 0, 0, 1, 1], [0, 0, 1, 1, 0, 0, 0, 0, 0, 1, 0, 0, 0, 1, 1], [0, 0, 1, 0, 1, 0, 0, 0, 1, 0, 0, 0, 1, 0, 1], [0, 0, 1, 0, 0, 1, 0, 0, 0, 0, 1, 0, 1, 0, 0], [0, 0, 1, 1, 0, 0, 0, 1, 0, 0, 0, 1, 0, 0, 1], [0, 0, 1, 0, 1, 0, 0, 0, 0, 0, 1, 0, 0, 1, 0], [0, 0, 1, 1, 0, 0, 0, 0, 1, 0, 0, 1, 0, 0, 1], [0, 0, 1, 0, 0, 1, 0, 0, 0, 1, 0, 1, 0, 0, 0], [0, 0, 1, 0, 1, 0, 0, 0, 0, 1, 0, 0, 0, 1, 1], [0, 0, 1, 1, 0, 0, 0, 1, 0, 0, 0, 0, 1, 0, 1], [0, 0, 1, 0, 0, 0, 1, 0, 1, 0, 0, 0, 1, 0, 1], [1, 0, 0, 0, 0, 1, 0, 0, 1, 0, 0, 0, 0, 1, 1], [1, 0, 0, 1, 0, 0, 0, 1, 0, 0, 0, 0, 0, 1, 1], [1, 0, 0, 0, 1, 0, 0, 1, 0, 0, 0, 1, 0, 0, 1], [1, 0, 0, 0, 1, 0, 0, 0, 1, 0, 0, 1, 0, 0, 1], [1, 0, 0, 0, 1, 0, 0, 0, 0, 0, 1, 1, 0, 0, 0], [1, 0, 0, 1, 0, 0, 0, 0, 1, 0, 0, 1, 0, 0, 0], [1, 0, 0, 1, 0, 0, 0, 0, 0, 0, 1, 0, 1, 0, 1], [1, 0, 0, 0, 1, 0, 0, 1, 0, 0, 0, 0, 1, 0, 1], [1, 0, 0, 1, 0, 0, 0, 0, 1, 0, 0, 0, 1, 0, 1], [1, 0, 0, 0, 0, 1, 0, 0, 0, 1, 0, 0, 0, 1, 0], [1, 0, 0, 0, 0, 1, 0, 1, 0, 0, 0, 0, 0, 1, 1], [1, 0, 0, 1, 0, 0, 0, 0, 0, 1, 0, 0, 0, 1, 0], [1, 0, 0, 0, 0, 1, 0, 0, 1, 0, 0, 0, 1, 0, 0], [1, 0, 0, 1, 0, 0, 0, 1, 0, 0, 0, 1, 0, 0, 0], [1, 0, 0, 0, 0, 1, 0, 1, 0, 0, 0, 0, 1, 0, 0], [1, 0, 0, 0, 0, 0, 1, 0, 0, 0, 1, 1, 0, 0, 0], [1, 0, 0, 0, 0, 1, 0, 0, 0, 1, 0, 1, 0, 0, 1], [1, 0, 0, 0, 0, 0, 1, 0, 0, 0, 1, 0, 1, 0, 0], [1, 0, 0, 0, 0, 0, 1, 0, 0, 1, 0, 0, 1, 0, 0], [1, 0, 0, 0, 0, 1, 0, 0, 0, 0, 1, 0, 0, 1, 0], [1, 0, 0, 1, 0, 0, 0, 0, 0, 0, 1, 0, 0, 1, 0], [1, 0, 0, 1, 0, 0, 0, 0, 1, 0, 0, 0, 0, 1, 1], [1, 0, 0, 0, 0, 0, 1, 0, 1, 0, 0, 0, 1, 0, 0], [1, 0, 0, 0, 0, 0, 1, 0, 0, 1, 0, 0, 0, 1, 1], [1, 0, 0, 0, 0, 0, 1, 0, 1, 0, 0, 1, 0, 0, 0]]\n"
     ]
    }
   ],
   "source": [
    "metalist = []\n",
    "for i in range (len(data)):\n",
    "    Datalist = []\n",
    "    for j in range (len(data[i])):\n",
    "        if (j == 0):\n",
    "            if (data[i][0] == 'Tinggi'):\n",
    "                Datalist.append(1)\n",
    "                Datalist.append(0)\n",
    "                Datalist.append(0)\n",
    "            elif (data[i][0] == 'Normal'):\n",
    "                Datalist.append(0)\n",
    "                Datalist.append(1)\n",
    "                Datalist.append(0)\n",
    "            elif (data[i][0] == 'Rendah'):\n",
    "                Datalist.append(0)\n",
    "                Datalist.append(0)\n",
    "                Datalist.append(1)\n",
    "        elif (j == 1):\n",
    "            if (data[i][1] == 'Pagi'):\n",
    "                Datalist.append(1)\n",
    "                Datalist.append(0)\n",
    "                Datalist.append(0)\n",
    "                Datalist.append(0)\n",
    "            elif (data[i][1] == 'Siang'):\n",
    "                Datalist.append(0)\n",
    "                Datalist.append(1)\n",
    "                Datalist.append(0)\n",
    "                Datalist.append(0)\n",
    "            elif (data[i][1] == 'Sore'):\n",
    "                Datalist.append(0)\n",
    "                Datalist.append(0)\n",
    "                Datalist.append(1)\n",
    "                Datalist.append(0)\n",
    "            elif (data[i][1] == 'Malam'):\n",
    "                Datalist.append(0)\n",
    "                Datalist.append(0)\n",
    "                Datalist.append(0)\n",
    "                Datalist.append(1)\n",
    "        elif (j == 2):\n",
    "            if (data[i][2] == 'Cerah'):\n",
    "                Datalist.append(1)\n",
    "                Datalist.append(0)\n",
    "                Datalist.append(0)\n",
    "                Datalist.append(0)\n",
    "            elif (data[i][2] == 'Berawan'):\n",
    "                Datalist.append(0)\n",
    "                Datalist.append(1)\n",
    "                Datalist.append(0)\n",
    "                Datalist.append(0)\n",
    "            elif (data[i][2] == 'Rintik'):\n",
    "                Datalist.append(0)\n",
    "                Datalist.append(0)\n",
    "                Datalist.append(1)\n",
    "                Datalist.append(0)\n",
    "            elif (data[i][2] == 'Hujan'):\n",
    "                Datalist.append(0)\n",
    "                Datalist.append(0)\n",
    "                Datalist.append(0)\n",
    "                Datalist.append(1)\n",
    "        elif (j == 3):\n",
    "            if (data[i][3] == 'Tinggi'):\n",
    "                Datalist.append(1)\n",
    "                Datalist.append(0)\n",
    "                Datalist.append(0)\n",
    "            elif (data[i][3] == 'Normal'):\n",
    "                Datalist.append(0)\n",
    "                Datalist.append(1)\n",
    "                Datalist.append(0)\n",
    "            elif (data[i][3] == 'Rendah'):\n",
    "                Datalist.append(0)\n",
    "                Datalist.append(0)\n",
    "                Datalist.append(1)\n",
    "        elif (j == 4):\n",
    "            if (data[i][4] == 'Ya'):\n",
    "                Datalist.append(1)\n",
    "            elif (data[i][4] == 'Tidak'):\n",
    "                Datalist.append(0)\n",
    "    metalist.append(Datalist)\n",
    "\n",
    "print(metalist)"
   ]
  },
  {
   "cell_type": "code",
   "execution_count": 5,
   "metadata": {},
   "outputs": [],
   "source": [
    "def separate(kromosom):\n",
    "    x1 = kromosom[:15]\n",
    "    x2 = kromosom[15:]\n",
    "    return x1, x2"
   ]
  },
  {
   "cell_type": "code",
   "execution_count": 6,
   "metadata": {},
   "outputs": [],
   "source": [
    "def Setara (kromosom):\n",
    "    if ((len(kromosom) % 15) != 0 ):\n",
    "        listbaru = []\n",
    "        for i in range (15):\n",
    "            listbaru.append(kromosom[i])\n",
    "    return listbaru"
   ]
  },
  {
   "cell_type": "code",
   "execution_count": 7,
   "metadata": {},
   "outputs": [],
   "source": [
    "def slicing (dat):\n",
    "    str1 = dat[:3]\n",
    "    str2 = dat[3:7]\n",
    "    str3 = dat[7:11]\n",
    "    str4 = dat[11:14]\n",
    "    str5 = dat[14:]\n",
    "    indilist = []\n",
    "    indilist.append(str1)\n",
    "    indilist.append(str2)\n",
    "    indilist.append(str3)\n",
    "    indilist.append(str4)\n",
    "    indilist.append(str5)\n",
    "    return indilist"
   ]
  },
  {
   "cell_type": "code",
   "execution_count": 8,
   "metadata": {},
   "outputs": [],
   "source": [
    "def individu ():\n",
    "    b = []\n",
    "    for i in range (30):\n",
    "        b.append (random.randint(0,1))\n",
    "    return b"
   ]
  },
  {
   "cell_type": "code",
   "execution_count": 9,
   "metadata": {},
   "outputs": [
    {
     "name": "stdout",
     "output_type": "stream",
     "text": [
      "[0, 0, 1, 0, 1, 1, 0, 0, 1, 1, 1, 1, 0, 0, 0, 1, 1, 0, 0, 0, 0, 0, 1, 0, 0, 0, 1, 0, 1, 0]\n"
     ]
    }
   ],
   "source": [
    "print (individu())"
   ]
  },
  {
   "cell_type": "code",
   "execution_count": 10,
   "metadata": {},
   "outputs": [],
   "source": [
    "populasi = []\n",
    "for i in range (20):\n",
    "    populasi.append(individu())"
   ]
  },
  {
   "cell_type": "code",
   "execution_count": 11,
   "metadata": {},
   "outputs": [],
   "source": [
    "def danhehe (x):\n",
    "    vl = 0\n",
    "    for i in range (len(x)):\n",
    "        if (x[i] == 0 ):\n",
    "            return 0\n",
    "        else:\n",
    "            vl = 1\n",
    "    return vl"
   ]
  },
  {
   "cell_type": "code",
   "execution_count": 12,
   "metadata": {},
   "outputs": [],
   "source": [
    "def atauhehe(x):\n",
    "    vl = 0\n",
    "    for i in range(len(x)):   \n",
    "        if (x[i] == 1):\n",
    "            return 1\n",
    "        else:\n",
    "            vl = 0\n",
    "    return vl"
   ]
  },
  {
   "cell_type": "code",
   "execution_count": 13,
   "metadata": {},
   "outputs": [],
   "source": [
    "def fitness (krom):\n",
    "    x1 = []\n",
    "    x2 = []\n",
    "    xval = 0\n",
    "    if (len(krom) == 30):\n",
    "        x1, x2 = separate(krom)\n",
    "        for i in range (len(metalist)):\n",
    "            res = []\n",
    "            tval = 0\n",
    "            for j in range (len(x1)):\n",
    "                if(x1[j] == 0 or metalist[i][j] == 0):\n",
    "                    res.append(0)\n",
    "                elif(x1[j] == 1 and metalist[i][j] == 1):\n",
    "                    res.append(1)\n",
    "            ha = slicing(res)\n",
    "            key  = []\n",
    "            for j in range (4):\n",
    "                key.append(atauhehe(ha[j]))\n",
    "            hass = danhehe(key)\n",
    "            if (hass == metalist[i][14]):\n",
    "                xval += 1\n",
    "            elif (hass != metalist[i][14]):\n",
    "                res = []\n",
    "                tval = 0\n",
    "                for j in range (len(x2)):\n",
    "                    if(x2[j] == 0 or metalist[i][j] == 0):\n",
    "                        res.append(0)\n",
    "                    elif(x2[j] == 1 and metalist[i][j] == 1):\n",
    "                        res.append(1)\n",
    "                ha = slicing(res)\n",
    "                key  = []\n",
    "                for j in range (4):\n",
    "                    key.append(atauhehe(ha[j]))\n",
    "                hass = danhehe(key)\n",
    "                if (hass == metalist[i][14]):\n",
    "                    xval += 1\n",
    "    elif((len(krom) % 15) != 0 ):\n",
    "        xlist = krom[:15]\n",
    "        for i in range (len(metalist)):\n",
    "            res = []\n",
    "            tval = 0\n",
    "            for j in range (len(xlist)):\n",
    "                if(xlist[j] == 0 or metalist[i][j] == 0):\n",
    "                    res.append(0)\n",
    "                elif(xlist[j] == 1 and metalist[i][j] == 1):\n",
    "                    res.append(1)\n",
    "            ha = slicing(res)\n",
    "            key  = []\n",
    "            for j in range (4):\n",
    "                key.append(atauhehe(ha[j]))\n",
    "            hass = danhehe(key)\n",
    "            if (hass == metalist[i][14]):\n",
    "                xval += 1\n",
    "    tval = xval/(len(metalist))\n",
    "    return tval"
   ]
  },
  {
   "cell_type": "code",
   "execution_count": 14,
   "metadata": {},
   "outputs": [
    {
     "data": {
      "text/plain": [
       "0.5875"
      ]
     },
     "execution_count": 14,
     "metadata": {},
     "output_type": "execute_result"
    }
   ],
   "source": [
    "fitness(individu())"
   ]
  },
  {
   "cell_type": "code",
   "execution_count": 15,
   "metadata": {},
   "outputs": [],
   "source": [
    "def ParentSelection():\n",
    "    compare = -1\n",
    "    for i in range (6):\n",
    "        idx = random.randint(0,19)\n",
    "        x1 = populasi[compare]\n",
    "        x2 = populasi[idx]\n",
    "        if (compare == -1 or (fitness(x1)) < fitness(x2)):\n",
    "            compare = idx\n",
    "    return populasi[compare].copy()"
   ]
  },
  {
   "cell_type": "code",
   "execution_count": 16,
   "metadata": {},
   "outputs": [
    {
     "name": "stdout",
     "output_type": "stream",
     "text": [
      "[1, 0, 0, 1, 0, 1, 0, 1, 1, 0, 1, 1, 1, 0, 1, 1, 0, 1, 0, 1, 0, 1, 1, 1, 0, 1, 1, 1, 1, 1]\n"
     ]
    }
   ],
   "source": [
    "print(ParentSelection())"
   ]
  },
  {
   "cell_type": "code",
   "execution_count": 17,
   "metadata": {},
   "outputs": [],
   "source": [
    "def Crossover():\n",
    "    par1 = ParentSelection()\n",
    "    par2 = ParentSelection()\n",
    "#print(par2)\n",
    "    prob = 0.8\n",
    "    idx1 = random.randint(0,14)\n",
    "    idx2 = random.randint(15,29)\n",
    "    chance = random.uniform(0, 1)\n",
    "#print(idx1, idx2)\n",
    "    x1 = []\n",
    "    x2 = []\n",
    "    if (chance < prob):\n",
    "        chancelist = []\n",
    "        p1 = idx2 - idx1\n",
    "        gap = p1 % 15 \n",
    "        p2_1 = [idx1, idx1 + p1]\n",
    "        if p2_1 not in chancelist:\n",
    "            chancelist.append(p2_1)\n",
    "        p2_2 = [idx1, idx1 + gap]\n",
    "        if p2_2 not in chancelist:\n",
    "            chancelist.append(p2_2)\n",
    "        p2_3 = [idx2 - p1, idx2]\n",
    "        if p2_3 not in chancelist:\n",
    "            chancelist.append(p2_3)\n",
    "        p2_4 = [idx2 - gap, idx2]\n",
    "        if p2_4 not in chancelist:\n",
    "            chancelist.append(p2_4)\n",
    "        x = random.randint(0, len(chancelist)-1)\n",
    "        point = []\n",
    "        point = chancelist[x]\n",
    "#print(point)\n",
    "        \n",
    "        #parent1\n",
    "        upper = par1[:idx1]\n",
    "        mid = par1[idx1:idx2]\n",
    "        lower = par1[idx2:]\n",
    "                  \n",
    "        #parent2\n",
    "        upper2 = par2[:point[0]]\n",
    "        mid2 = par2[point[0]:point[1]] \n",
    "        lower2 = par2[point[1]:]\n",
    "        xx =[]\n",
    "        xy =[]\n",
    "#        print(\"parent 1\")\n",
    "#        print (par1)\n",
    "#        print (upper)\n",
    "#        print (mid)\n",
    "#        print (lower)\n",
    "        \n",
    "#        print(\"parent 2\")\n",
    "#        print(par2)\n",
    "#        print (upper2)\n",
    "#        print (mid2)\n",
    "#        print (lower2)\n",
    "        \n",
    "        x1 = upper + mid2 + lower\n",
    "        x2 = upper2 + mid + lower\n",
    "#        print(\"x1 :\" ,x1)\n",
    "#        print(\"x2 :\" ,x2)\n",
    "        \n",
    "        \n",
    "    return x1, x2"
   ]
  },
  {
   "cell_type": "code",
   "execution_count": null,
   "metadata": {},
   "outputs": [],
   "source": []
  },
  {
   "cell_type": "code",
   "execution_count": 18,
   "metadata": {},
   "outputs": [],
   "source": [
    "def Mutasi(kromosom):\n",
    "    prob = 0.01\n",
    "    chance = random.uniform(0,1)\n",
    "    if (chance < prob):\n",
    "        for i in range (len(kromosom)):\n",
    "            if kromosom[i] == 0:\n",
    "                kromosom[i] = 1\n",
    "            elif kromosom[i] == 1:\n",
    "                    kromosom[i] = 0\n",
    "    return kromosom"
   ]
  },
  {
   "cell_type": "code",
   "execution_count": 59,
   "metadata": {},
   "outputs": [
    {
     "name": "stdout",
     "output_type": "stream",
     "text": [
      "Generasi ke - 1\n",
      "Generasi ke - 2\n",
      "Generasi ke - 3\n",
      "Generasi ke - 4\n",
      "Generasi ke - 5\n",
      "Generasi ke - 6\n",
      "Generasi ke - 7\n",
      "Generasi ke - 8\n",
      "Generasi ke - 9\n",
      "Generasi ke - 10\n",
      "Generasi ke - 11\n",
      "Generasi ke - 12\n",
      "Generasi ke - 13\n",
      "Generasi ke - 14\n",
      "Generasi ke - 15\n",
      "Generasi ke - 16\n",
      "Generasi ke - 17\n",
      "Generasi ke - 18\n",
      "Generasi ke - 19\n",
      "Generasi ke - 20\n",
      "best fit : [1, 0, 1, 1, 0, 1, 0, 1, 1, 0, 1, 1, 1, 1, 1, 1, 0, 1, 1, 1, 0, 1, 1, 1, 0, 1, 1, 1, 1, 1] 0.775\n"
     ]
    }
   ],
   "source": [
    "for i in range (20): \n",
    "    print(\"Generasi ke -\", i+1)\n",
    "    fit = []\n",
    "    for i in range (len(populasi)):\n",
    "        x = slicing(populasi[i])\n",
    "        fit.append(fitness(x))\n",
    "    urut = np.argsort(fit)[::-1]\n",
    "    \n",
    "    champ = []\n",
    "    champ.append(populasi[urut[0]])\n",
    "    champ.append(populasi[urut[1]])\n",
    "\n",
    "    while(len(champ) < len(populasi)) :\n",
    "        Cross1,Cross2 = Crossover()\n",
    "        Mutant = Mutasi(Cross1)\n",
    "        Mutant2 = Mutasi(Cross2)\n",
    "        champ.append(Mutant)\n",
    "        champ.append(Mutant2)\n",
    "    \n",
    "    for i in range (len(populasi)):\n",
    "        champ.append(populasi[i])\n",
    "    #print (*champ, sep = \"\\n\")\n",
    "    urut = []\n",
    "    fit = []\n",
    "    for i in range (len(champ)):\n",
    "        x = slicing(champ[i])\n",
    "        fit.append(fitness(x))\n",
    "    urut = np.argsort(fit)[::-1]\n",
    "    \n",
    "    populasi = []\n",
    "    for i in range (20):\n",
    "        populasi.append(champ[urut[i]])\n",
    "        \n",
    "        \n",
    "print(\"best fit :\",populasi[0], fitness(populasi[0]))\n",
    "best = populasi[0]    \n",
    "        "
   ]
  },
  {
   "cell_type": "code",
   "execution_count": 37,
   "metadata": {},
   "outputs": [
    {
     "name": "stdout",
     "output_type": "stream",
     "text": [
      "[[1, 0, 0, 0, 1, 0, 0, 0, 1, 0, 0, 0, 0, 1], [0, 0, 1, 0, 1, 0, 0, 0, 0, 0, 1, 1, 0, 0], [0, 1, 0, 1, 0, 0, 0, 0, 0, 0, 1, 1, 0, 0], [1, 0, 0, 0, 1, 0, 0, 0, 0, 0, 1, 0, 1, 0], [0, 0, 1, 0, 0, 0, 1, 0, 0, 0, 1, 0, 0, 1], [0, 1, 0, 0, 0, 1, 0, 1, 0, 0, 0, 0, 1, 0], [1, 0, 0, 0, 1, 0, 0, 0, 0, 1, 0, 0, 0, 1], [0, 0, 1, 0, 1, 0, 0, 1, 0, 0, 0, 0, 0, 1], [0, 1, 0, 0, 1, 0, 0, 1, 0, 0, 0, 0, 0, 1], [1, 0, 0, 0, 1, 0, 0, 0, 0, 0, 1, 0, 0, 1], [1, 0, 0, 0, 0, 1, 0, 1, 0, 0, 0, 1, 0, 0], [0, 1, 0, 0, 1, 0, 0, 1, 0, 0, 0, 1, 0, 0], [0, 0, 1, 1, 0, 0, 0, 0, 1, 0, 0, 0, 1, 0], [0, 0, 1, 0, 0, 0, 1, 0, 0, 1, 0, 1, 0, 0], [0, 1, 0, 0, 1, 0, 0, 0, 0, 0, 1, 0, 1, 0], [1, 0, 0, 0, 0, 0, 1, 1, 0, 0, 0, 1, 0, 0], [0, 0, 1, 0, 0, 0, 1, 0, 1, 0, 0, 0, 0, 1], [0, 0, 1, 0, 0, 1, 0, 0, 0, 1, 0, 0, 1, 0], [1, 0, 0, 0, 1, 0, 0, 1, 0, 0, 0, 0, 0, 1], [0, 0, 1, 0, 0, 0, 1, 0, 0, 1, 0, 0, 1, 0]]\n",
      "20\n"
     ]
    }
   ],
   "source": [
    "teslist = []\n",
    "for i in range (len(test)):\n",
    "    Datalist = []\n",
    "    for j in range (len(test[i])):\n",
    "        if (j == 0):\n",
    "            if (test[i][0] == 'Tinggi'):\n",
    "                Datalist.append(1)\n",
    "                Datalist.append(0)\n",
    "                Datalist.append(0)\n",
    "            elif (test[i][0] == 'Normal'):\n",
    "                Datalist.append(0)\n",
    "                Datalist.append(1)\n",
    "                Datalist.append(0)\n",
    "            elif (test[i][0] == 'Rendah'):\n",
    "                Datalist.append(0)\n",
    "                Datalist.append(0)\n",
    "                Datalist.append(1)\n",
    "        elif (j == 1):\n",
    "            if (test[i][1] == 'Pagi'):\n",
    "                Datalist.append(1)\n",
    "                Datalist.append(0)\n",
    "                Datalist.append(0)\n",
    "                Datalist.append(0)\n",
    "            elif (test[i][1] == 'Siang'):\n",
    "                Datalist.append(0)\n",
    "                Datalist.append(1)\n",
    "                Datalist.append(0)\n",
    "                Datalist.append(0)\n",
    "            elif (test[i][1] == 'Sore'):\n",
    "                Datalist.append(0)\n",
    "                Datalist.append(0)\n",
    "                Datalist.append(1)\n",
    "                Datalist.append(0)\n",
    "            elif (test[i][1] == 'Malam'):\n",
    "                Datalist.append(0)\n",
    "                Datalist.append(0)\n",
    "                Datalist.append(0)\n",
    "                Datalist.append(1)\n",
    "        elif (j == 2):\n",
    "            if (test[i][2] == 'Cerah'):\n",
    "                Datalist.append(1)\n",
    "                Datalist.append(0)\n",
    "                Datalist.append(0)\n",
    "                Datalist.append(0)\n",
    "            elif (test[i][2] == 'Berawan'):\n",
    "                Datalist.append(0)\n",
    "                Datalist.append(1)\n",
    "                Datalist.append(0)\n",
    "                Datalist.append(0)\n",
    "            elif (test[i][2] == 'Rintik'):\n",
    "                Datalist.append(0)\n",
    "                Datalist.append(0)\n",
    "                Datalist.append(1)\n",
    "                Datalist.append(0)\n",
    "            elif (test[i][2] == 'Hujan'):\n",
    "                Datalist.append(0)\n",
    "                Datalist.append(0)\n",
    "                Datalist.append(0)\n",
    "                Datalist.append(1)\n",
    "        elif (j == 3):\n",
    "            if (test[i][3] == 'Tinggi'):\n",
    "                Datalist.append(1)\n",
    "                Datalist.append(0)\n",
    "                Datalist.append(0)\n",
    "            elif (test[i][3] == 'Normal'):\n",
    "                Datalist.append(0)\n",
    "                Datalist.append(1)\n",
    "                Datalist.append(0)\n",
    "            elif (test[i][3] == 'Rendah'):\n",
    "                Datalist.append(0)\n",
    "                Datalist.append(0)\n",
    "                Datalist.append(1)\n",
    "    teslist.append(Datalist)\n",
    "\n",
    "print(teslist)\n"
   ]
  },
  {
   "cell_type": "code",
   "execution_count": 60,
   "metadata": {},
   "outputs": [],
   "source": [
    "def tesdata(krom):\n",
    "    x1 = []\n",
    "    x2 = []\n",
    "    xval = 0\n",
    "    x1, x2 = separate(krom)\n",
    "    final = []\n",
    "    for i in range (len(teslist)):\n",
    "        tesres = []\n",
    "        for k in range(14):\n",
    "            tesres.append(teslist[i][k])\n",
    "        res = []\n",
    "        \n",
    "        for j in range (len(x1)-1):\n",
    "            if(x1[j] == 0 or teslist[i][j] == 0):\n",
    "                res.append(0)\n",
    "            elif(x1[j] == 1 and teslist[i][j] == 1):\n",
    "                res.append(1)\n",
    "        ha = slicing(res)\n",
    "        key  = []\n",
    "        for j in range (4):\n",
    "            key.append(atauhehe(ha[j]))\n",
    "        hass = danhehe(key)\n",
    "        if (hass == 0):\n",
    "            res = []\n",
    "            for j in range (len(x2)-1):\n",
    "                if(x2[j] == 0 or teslist[i][j] == 0):\n",
    "                    res.append(0)\n",
    "                elif(x2[j] == 1 and teslist[i][j] == 1):\n",
    "                    res.append(1)\n",
    "            ha = slicing(res)\n",
    "            key  = []\n",
    "            for j in range (4):\n",
    "                key.append(atauhehe(ha[j]))\n",
    "            hass = danhehe(key)\n",
    "            if (hass == 0):\n",
    "                tesres.append(0)\n",
    "            elif (hass == 1):\n",
    "                tesres.append(1)\n",
    "        elif (hass == 1):\n",
    "            tesres.append(1)\n",
    "        final.append(tesres)\n",
    "    return final"
   ]
  },
  {
   "cell_type": "code",
   "execution_count": 56,
   "metadata": {},
   "outputs": [
    {
     "data": {
      "text/plain": [
       "[[1, 0, 0, 0, 1, 0, 0, 0, 1, 0, 0, 0, 0, 1, 0],\n",
       " [0, 0, 1, 0, 1, 0, 0, 0, 0, 0, 1, 1, 0, 0, 0],\n",
       " [0, 1, 0, 1, 0, 0, 0, 0, 0, 0, 1, 1, 0, 0, 0],\n",
       " [1, 0, 0, 0, 1, 0, 0, 0, 0, 0, 1, 0, 1, 0, 0],\n",
       " [0, 0, 1, 0, 0, 0, 1, 0, 0, 0, 1, 0, 0, 1, 1],\n",
       " [0, 1, 0, 0, 0, 1, 0, 1, 0, 0, 0, 0, 1, 0, 1],\n",
       " [1, 0, 0, 0, 1, 0, 0, 0, 0, 1, 0, 0, 0, 1, 0],\n",
       " [0, 0, 1, 0, 1, 0, 0, 1, 0, 0, 0, 0, 0, 1, 0],\n",
       " [0, 1, 0, 0, 1, 0, 0, 1, 0, 0, 0, 0, 0, 1, 0],\n",
       " [1, 0, 0, 0, 1, 0, 0, 0, 0, 0, 1, 0, 0, 1, 0],\n",
       " [1, 0, 0, 0, 0, 1, 0, 1, 0, 0, 0, 1, 0, 0, 1],\n",
       " [0, 1, 0, 0, 1, 0, 0, 1, 0, 0, 0, 1, 0, 0, 0],\n",
       " [0, 0, 1, 1, 0, 0, 0, 0, 1, 0, 0, 0, 1, 0, 1],\n",
       " [0, 0, 1, 0, 0, 0, 1, 0, 0, 1, 0, 1, 0, 0, 1],\n",
       " [0, 1, 0, 0, 1, 0, 0, 0, 0, 0, 1, 0, 1, 0, 0],\n",
       " [1, 0, 0, 0, 0, 0, 1, 1, 0, 0, 0, 1, 0, 0, 1],\n",
       " [0, 0, 1, 0, 0, 0, 1, 0, 1, 0, 0, 0, 0, 1, 1],\n",
       " [0, 0, 1, 0, 0, 1, 0, 0, 0, 1, 0, 0, 1, 0, 1],\n",
       " [1, 0, 0, 0, 1, 0, 0, 1, 0, 0, 0, 0, 0, 1, 0],\n",
       " [0, 0, 1, 0, 0, 0, 1, 0, 0, 1, 0, 0, 1, 0, 1]]"
      ]
     },
     "execution_count": 56,
     "metadata": {},
     "output_type": "execute_result"
    }
   ],
   "source": [
    "tesdata([0, 1, 0, 1, 0, 1, 1, 1, 0, 0, 1, 0, 1, 1, 1, 1, 0, 1, 1, 0, 1, 1, 1, 1, 1, 1, 1, 1, 1, 1])"
   ]
  },
  {
   "cell_type": "code",
   "execution_count": 76,
   "metadata": {},
   "outputs": [
    {
     "name": "stdout",
     "output_type": "stream",
     "text": [
      "Akurasi :  77.5 %\n",
      "\n",
      "Data ke :  1 Ya\n",
      "Data ke :  2 Ya\n",
      "Data ke :  3 Tidak\n",
      "Data ke :  4 Ya\n",
      "Data ke :  5 Ya\n",
      "Data ke :  6 Tidak\n",
      "Data ke :  7 Tidak\n",
      "Data ke :  8 Ya\n",
      "Data ke :  9 Tidak\n",
      "Data ke :  10 Ya\n",
      "Data ke :  11 Ya\n",
      "Data ke :  12 Tidak\n",
      "Data ke :  13 Ya\n",
      "Data ke :  14 Tidak\n",
      "Data ke :  15 Tidak\n",
      "Data ke :  16 Ya\n",
      "Data ke :  17 Ya\n",
      "Data ke :  18 Tidak\n",
      "Data ke :  19 Ya\n",
      "Data ke :  20 Tidak\n"
     ]
    }
   ],
   "source": [
    "end = tesdata(best)\n",
    "print('Akurasi : ',fitness(best) * 100,\"%\")\n",
    "print()\n",
    "for i in range (20):\n",
    "    if ((end[i][14]) == 1):\n",
    "        print(\"Data ke : \",i+1, \"Ya\")\n",
    "    if ((end[i][14]) == 0):\n",
    "        print(\"Data ke : \",i+1, \"Tidak\")"
   ]
  },
  {
   "cell_type": "code",
   "execution_count": null,
   "metadata": {},
   "outputs": [],
   "source": []
  }
 ],
 "metadata": {
  "kernelspec": {
   "display_name": "Python 3",
   "language": "python",
   "name": "python3"
  },
  "language_info": {
   "codemirror_mode": {
    "name": "ipython",
    "version": 3
   },
   "file_extension": ".py",
   "mimetype": "text/x-python",
   "name": "python",
   "nbconvert_exporter": "python",
   "pygments_lexer": "ipython3",
   "version": "3.7.3"
  }
 },
 "nbformat": 4,
 "nbformat_minor": 2
}
